{
 "cells": [
  {
   "cell_type": "code",
   "execution_count": 1,
   "id": "fa356f0e",
   "metadata": {},
   "outputs": [],
   "source": [
    "## import statements ##\n",
    "import numpy as np\n",
    "import pandas as pd\n",
    "import seaborn as sns\n",
    "\n",
    "import matplotlib.pyplot as plt\n",
    "%matplotlib inline"
   ]
  },
  {
   "cell_type": "code",
   "execution_count": 2,
   "id": "20043cb7",
   "metadata": {},
   "outputs": [],
   "source": [
    "df = pd.read_csv('databaru.csv')"
   ]
  },
  {
   "cell_type": "code",
   "execution_count": 3,
   "id": "8862b300",
   "metadata": {},
   "outputs": [
    {
     "name": "stdout",
     "output_type": "stream",
     "text": [
      "<class 'pandas.core.frame.DataFrame'>\n",
      "RangeIndex: 9326 entries, 0 to 9325\n",
      "Data columns (total 2 columns):\n",
      " #   Column    Non-Null Count  Dtype \n",
      "---  ------    --------------  ----- \n",
      " 0   body      9322 non-null   object\n",
      " 1   polarity  9326 non-null   object\n",
      "dtypes: object(2)\n",
      "memory usage: 145.8+ KB\n"
     ]
    }
   ],
   "source": [
    "df.info()"
   ]
  },
  {
   "cell_type": "code",
   "execution_count": 4,
   "id": "69aeddb2",
   "metadata": {},
   "outputs": [
    {
     "data": {
      "text/html": [
       "<div>\n",
       "<style scoped>\n",
       "    .dataframe tbody tr th:only-of-type {\n",
       "        vertical-align: middle;\n",
       "    }\n",
       "\n",
       "    .dataframe tbody tr th {\n",
       "        vertical-align: top;\n",
       "    }\n",
       "\n",
       "    .dataframe thead th {\n",
       "        text-align: right;\n",
       "    }\n",
       "</style>\n",
       "<table border=\"1\" class=\"dataframe\">\n",
       "  <thead>\n",
       "    <tr style=\"text-align: right;\">\n",
       "      <th></th>\n",
       "      <th>body</th>\n",
       "      <th>polarity</th>\n",
       "    </tr>\n",
       "  </thead>\n",
       "  <tbody>\n",
       "    <tr>\n",
       "      <th>0</th>\n",
       "      <td>Currently, a user has to open the Chat action ...</td>\n",
       "      <td>positive</td>\n",
       "    </tr>\n",
       "    <tr>\n",
       "      <th>1</th>\n",
       "      <td>\"Prevent Unauthorized Transactions in your dem...</td>\n",
       "      <td>positive</td>\n",
       "    </tr>\n",
       "    <tr>\n",
       "      <th>2</th>\n",
       "      <td>The world's number one cryptocurrency, bitcoin...</td>\n",
       "      <td>positive</td>\n",
       "    </tr>\n",
       "    <tr>\n",
       "      <th>3</th>\n",
       "      <td>ADEN, Aug 23 (Reuters) - Yemen will receive ab...</td>\n",
       "      <td>negative</td>\n",
       "    </tr>\n",
       "    <tr>\n",
       "      <th>4</th>\n",
       "      <td>With the ASPI surging past the 8,000 mark for ...</td>\n",
       "      <td>positive</td>\n",
       "    </tr>\n",
       "  </tbody>\n",
       "</table>\n",
       "</div>"
      ],
      "text/plain": [
       "                                                body  polarity\n",
       "0  Currently, a user has to open the Chat action ...  positive\n",
       "1  \"Prevent Unauthorized Transactions in your dem...  positive\n",
       "2  The world's number one cryptocurrency, bitcoin...  positive\n",
       "3  ADEN, Aug 23 (Reuters) - Yemen will receive ab...  negative\n",
       "4  With the ASPI surging past the 8,000 mark for ...  positive"
      ]
     },
     "execution_count": 4,
     "metadata": {},
     "output_type": "execute_result"
    }
   ],
   "source": [
    "df.head()"
   ]
  },
  {
   "cell_type": "code",
   "execution_count": 5,
   "id": "2a850e31",
   "metadata": {},
   "outputs": [
    {
     "name": "stdout",
     "output_type": "stream",
     "text": [
      "Number of missing values per feature\n"
     ]
    },
    {
     "data": {
      "text/plain": [
       "body        4\n",
       "polarity    0\n",
       "dtype: int64"
      ]
     },
     "execution_count": 5,
     "metadata": {},
     "output_type": "execute_result"
    }
   ],
   "source": [
    "print('Number of missing values per feature')\n",
    "df.isna().sum()"
   ]
  },
  {
   "cell_type": "code",
   "execution_count": 6,
   "id": "63caba5d",
   "metadata": {},
   "outputs": [],
   "source": [
    "df.dropna(subset=None, inplace = True) "
   ]
  },
  {
   "cell_type": "code",
   "execution_count": 7,
   "id": "82256252",
   "metadata": {},
   "outputs": [
    {
     "name": "stdout",
     "output_type": "stream",
     "text": [
      "Number of missing values per feature\n"
     ]
    },
    {
     "data": {
      "text/plain": [
       "body        0\n",
       "polarity    0\n",
       "dtype: int64"
      ]
     },
     "execution_count": 7,
     "metadata": {},
     "output_type": "execute_result"
    }
   ],
   "source": [
    "print('Number of missing values per feature')\n",
    "df.isna().sum()"
   ]
  },
  {
   "cell_type": "code",
   "execution_count": 8,
   "id": "e25c5e68",
   "metadata": {},
   "outputs": [
    {
     "name": "stdout",
     "output_type": "stream",
     "text": [
      "Is there any duplicated rows? \n",
      "True\n",
      "\n",
      "How many? \n",
      "126 rows\n"
     ]
    }
   ],
   "source": [
    "print(f\"Is there any duplicated rows? \\n{df.duplicated().any()}\") #melihat duplikat dari data\n",
    "print(f\"\\nHow many? \\n{df.duplicated().sum()} rows\")"
   ]
  },
  {
   "cell_type": "code",
   "execution_count": 9,
   "id": "ef10ab27",
   "metadata": {},
   "outputs": [],
   "source": [
    "df.drop_duplicates(subset=None, keep='first', inplace = True, ignore_index=False) #menghaopus data duplikat"
   ]
  },
  {
   "cell_type": "code",
   "execution_count": 10,
   "id": "701e843f",
   "metadata": {
    "scrolled": true
   },
   "outputs": [
    {
     "data": {
      "text/html": [
       "<div>\n",
       "<style scoped>\n",
       "    .dataframe tbody tr th:only-of-type {\n",
       "        vertical-align: middle;\n",
       "    }\n",
       "\n",
       "    .dataframe tbody tr th {\n",
       "        vertical-align: top;\n",
       "    }\n",
       "\n",
       "    .dataframe thead th {\n",
       "        text-align: right;\n",
       "    }\n",
       "</style>\n",
       "<table border=\"1\" class=\"dataframe\">\n",
       "  <thead>\n",
       "    <tr style=\"text-align: right;\">\n",
       "      <th></th>\n",
       "      <th>body</th>\n",
       "      <th>polarity</th>\n",
       "    </tr>\n",
       "  </thead>\n",
       "  <tbody>\n",
       "    <tr>\n",
       "      <th>0</th>\n",
       "      <td>Currently, a user has to open the Chat action ...</td>\n",
       "      <td>positive</td>\n",
       "    </tr>\n",
       "    <tr>\n",
       "      <th>1</th>\n",
       "      <td>\"Prevent Unauthorized Transactions in your dem...</td>\n",
       "      <td>positive</td>\n",
       "    </tr>\n",
       "    <tr>\n",
       "      <th>2</th>\n",
       "      <td>The world's number one cryptocurrency, bitcoin...</td>\n",
       "      <td>positive</td>\n",
       "    </tr>\n",
       "    <tr>\n",
       "      <th>3</th>\n",
       "      <td>ADEN, Aug 23 (Reuters) - Yemen will receive ab...</td>\n",
       "      <td>negative</td>\n",
       "    </tr>\n",
       "    <tr>\n",
       "      <th>4</th>\n",
       "      <td>With the ASPI surging past the 8,000 mark for ...</td>\n",
       "      <td>positive</td>\n",
       "    </tr>\n",
       "  </tbody>\n",
       "</table>\n",
       "</div>"
      ],
      "text/plain": [
       "                                                body  polarity\n",
       "0  Currently, a user has to open the Chat action ...  positive\n",
       "1  \"Prevent Unauthorized Transactions in your dem...  positive\n",
       "2  The world's number one cryptocurrency, bitcoin...  positive\n",
       "3  ADEN, Aug 23 (Reuters) - Yemen will receive ab...  negative\n",
       "4  With the ASPI surging past the 8,000 mark for ...  positive"
      ]
     },
     "execution_count": 10,
     "metadata": {},
     "output_type": "execute_result"
    }
   ],
   "source": [
    "df.head()"
   ]
  },
  {
   "cell_type": "code",
   "execution_count": 11,
   "id": "c34d6248",
   "metadata": {},
   "outputs": [
    {
     "name": "stdout",
     "output_type": "stream",
     "text": [
      "<class 'pandas.core.frame.DataFrame'>\n",
      "Int64Index: 9196 entries, 0 to 9325\n",
      "Data columns (total 2 columns):\n",
      " #   Column    Non-Null Count  Dtype \n",
      "---  ------    --------------  ----- \n",
      " 0   body      9196 non-null   object\n",
      " 1   polarity  9196 non-null   object\n",
      "dtypes: object(2)\n",
      "memory usage: 215.5+ KB\n"
     ]
    }
   ],
   "source": [
    "df.info()"
   ]
  },
  {
   "cell_type": "code",
   "execution_count": 12,
   "id": "8855369a",
   "metadata": {},
   "outputs": [],
   "source": [
    "import re \n",
    "import string"
   ]
  },
  {
   "cell_type": "code",
   "execution_count": 13,
   "id": "a020d661",
   "metadata": {},
   "outputs": [],
   "source": [
    "# fungsi clean digunakan membersihkan simbol atau frasa yang tidak diperlukan\n",
    "def cleanNews(news):\n",
    "    news = news.lower()\n",
    "    news = re.sub(r'\\d+', '', news) # remove digits\n",
    "    news = re.sub(r'”|–|“|’', '', news) # remove digits\n",
    "    news = re.sub(r'\\n', '', news) # remove enter to 1 space\n",
    "    news = re.sub(r'\\s+', ' ', news)# remove extra spaces\n",
    "    \n",
    "    \n",
    "    return news\n",
    "\n",
    "# mengaplikasikan proses cleaning\n",
    "df['body'] = df.body.astype(str).apply(cleanNews)"
   ]
  },
  {
   "cell_type": "code",
   "execution_count": 14,
   "id": "426325e4",
   "metadata": {},
   "outputs": [],
   "source": [
    "def remove_punct(text): #menghapus tanda baca\n",
    "    text_nopunct = ''\n",
    "    text_nopunct = re.sub('['+string.punctuation+']', '', text)\n",
    "    return text_nopunct\n",
    "\n",
    "df['text_new'] = df['body'].apply(lambda x: remove_punct(x))"
   ]
  },
  {
   "cell_type": "code",
   "execution_count": 15,
   "id": "d2312a23",
   "metadata": {},
   "outputs": [],
   "source": [
    "from nltk import word_tokenize, WordNetLemmatizer\n",
    "tokens = [word_tokenize(sen) for sen in df.text_new] "
   ]
  },
  {
   "cell_type": "code",
   "execution_count": 16,
   "id": "2c73a25b",
   "metadata": {},
   "outputs": [],
   "source": [
    "def lower_token(tokens): \n",
    "    return [w.lower() for w in tokens]    \n",
    "    \n",
    "lower_tokens = [lower_token(token) for token in tokens] "
   ]
  },
  {
   "cell_type": "code",
   "execution_count": 17,
   "id": "786899bf",
   "metadata": {},
   "outputs": [],
   "source": [
    "from nltk.corpus import stopwords\n",
    "stoplist = stopwords.words('english')"
   ]
  },
  {
   "cell_type": "code",
   "execution_count": 18,
   "id": "0e782598",
   "metadata": {},
   "outputs": [],
   "source": [
    "def remove_stop_words(tokens): \n",
    "    return [word for word in tokens if word not in stoplist]"
   ]
  },
  {
   "cell_type": "code",
   "execution_count": 19,
   "id": "be69ccbd",
   "metadata": {},
   "outputs": [],
   "source": [
    "from nltk.stem.snowball import SnowballStemmer"
   ]
  },
  {
   "cell_type": "code",
   "execution_count": 20,
   "id": "6f37cbfe",
   "metadata": {},
   "outputs": [],
   "source": [
    "#importing the Stemming function from nltk library\n",
    "from nltk.stem.porter import PorterStemmer\n",
    "#defining the object for stemming\n",
    "porter_stemmer = PorterStemmer()"
   ]
  },
  {
   "cell_type": "code",
   "execution_count": 21,
   "id": "f5417112",
   "metadata": {},
   "outputs": [],
   "source": [
    "# import nltk\n",
    "# from nltk.stem.snowball import SnowballStemmer\n",
    "  \n",
    "# #the stemmer requires a language parameter\n",
    "# snow_stemmer = SnowballStemmer(language='english')"
   ]
  },
  {
   "cell_type": "code",
   "execution_count": 22,
   "id": "d84722f1",
   "metadata": {},
   "outputs": [],
   "source": [
    "#defining a function for stemming\n",
    "def stemming(text):\n",
    "    stem_text = [porter_stemmer.stem(word) for word in text]\n",
    "    return stem_text"
   ]
  },
  {
   "cell_type": "code",
   "execution_count": 23,
   "id": "c598275b",
   "metadata": {},
   "outputs": [],
   "source": [
    "filtered_words = [remove_stop_words(sen) for sen in lower_tokens] "
   ]
  },
  {
   "cell_type": "code",
   "execution_count": 24,
   "id": "19144c03",
   "metadata": {},
   "outputs": [],
   "source": [
    "stemming = [stemming(sen) for sen in filtered_words]"
   ]
  },
  {
   "cell_type": "code",
   "execution_count": 25,
   "id": "06c666ab",
   "metadata": {},
   "outputs": [],
   "source": [
    "result = [' '.join(sen) for sen in stemming ] "
   ]
  },
  {
   "cell_type": "code",
   "execution_count": 26,
   "id": "e1cd457c",
   "metadata": {},
   "outputs": [],
   "source": [
    "df['Text_Final'] = result"
   ]
  },
  {
   "cell_type": "code",
   "execution_count": 27,
   "id": "ed945fa3",
   "metadata": {},
   "outputs": [
    {
     "data": {
      "text/html": [
       "<div>\n",
       "<style scoped>\n",
       "    .dataframe tbody tr th:only-of-type {\n",
       "        vertical-align: middle;\n",
       "    }\n",
       "\n",
       "    .dataframe tbody tr th {\n",
       "        vertical-align: top;\n",
       "    }\n",
       "\n",
       "    .dataframe thead th {\n",
       "        text-align: right;\n",
       "    }\n",
       "</style>\n",
       "<table border=\"1\" class=\"dataframe\">\n",
       "  <thead>\n",
       "    <tr style=\"text-align: right;\">\n",
       "      <th></th>\n",
       "      <th>body</th>\n",
       "      <th>polarity</th>\n",
       "      <th>text_new</th>\n",
       "      <th>Text_Final</th>\n",
       "    </tr>\n",
       "  </thead>\n",
       "  <tbody>\n",
       "    <tr>\n",
       "      <th>0</th>\n",
       "      <td>currently, a user has to open the chat action ...</td>\n",
       "      <td>positive</td>\n",
       "      <td>currently a user has to open the chat action s...</td>\n",
       "      <td>current user open chat action sheet order send...</td>\n",
       "    </tr>\n",
       "    <tr>\n",
       "      <th>1</th>\n",
       "      <td>\"prevent unauthorized transactions in your dem...</td>\n",
       "      <td>positive</td>\n",
       "      <td>prevent unauthorized transactions in your dema...</td>\n",
       "      <td>prevent unauthor transact demat trade account ...</td>\n",
       "    </tr>\n",
       "    <tr>\n",
       "      <th>2</th>\n",
       "      <td>the world's number one cryptocurrency, bitcoin...</td>\n",
       "      <td>positive</td>\n",
       "      <td>the worlds number one cryptocurrency bitcoin h...</td>\n",
       "      <td>world number one cryptocurr bitcoin top mark f...</td>\n",
       "    </tr>\n",
       "    <tr>\n",
       "      <th>3</th>\n",
       "      <td>aden, aug (reuters) - yemen will receive about...</td>\n",
       "      <td>negative</td>\n",
       "      <td>aden aug reuters  yemen will receive about  mi...</td>\n",
       "      <td>aden aug reuter yemen receiv million worth res...</td>\n",
       "    </tr>\n",
       "    <tr>\n",
       "      <th>4</th>\n",
       "      <td>with the aspi surging past the , mark for the ...</td>\n",
       "      <td>positive</td>\n",
       "      <td>with the aspi surging past the  mark for the n...</td>\n",
       "      <td>aspi surg past mark nd time take account econo...</td>\n",
       "    </tr>\n",
       "    <tr>\n",
       "      <th>...</th>\n",
       "      <td>...</td>\n",
       "      <td>...</td>\n",
       "      <td>...</td>\n",
       "      <td>...</td>\n",
       "    </tr>\n",
       "    <tr>\n",
       "      <th>9321</th>\n",
       "      <td>quebec-based startup raised a series a to exte...</td>\n",
       "      <td>positive</td>\n",
       "      <td>quebecbased startup raised a series a to exten...</td>\n",
       "      <td>quebecbas startup rais seri extend leadership ...</td>\n",
       "    </tr>\n",
       "    <tr>\n",
       "      <th>9322</th>\n",
       "      <td>as per the draft red herring prospectus (drhp)...</td>\n",
       "      <td>neutral</td>\n",
       "      <td>as per the draft red herring prospectus drhp f...</td>\n",
       "      <td>per draft red her prospectu drhp file life ins...</td>\n",
       "    </tr>\n",
       "    <tr>\n",
       "      <th>9323</th>\n",
       "      <td>asia-pacific markets mostly gain as investors ...</td>\n",
       "      <td>positive</td>\n",
       "      <td>asiapacific markets mostly gain as investors w...</td>\n",
       "      <td>asiapacif market mostli gain investor weigh ru...</td>\n",
       "    </tr>\n",
       "    <tr>\n",
       "      <th>9324</th>\n",
       "      <td>over the last couple of years, there has been ...</td>\n",
       "      <td>neutral</td>\n",
       "      <td>over the last couple of years there has been a...</td>\n",
       "      <td>last coupl year exponenti flow invest agritech...</td>\n",
       "    </tr>\n",
       "    <tr>\n",
       "      <th>9325</th>\n",
       "      <td>european spend management startup payhawk has ...</td>\n",
       "      <td>positive</td>\n",
       "      <td>european spend management startup payhawk has ...</td>\n",
       "      <td>european spend manag startup payhawk ad millio...</td>\n",
       "    </tr>\n",
       "  </tbody>\n",
       "</table>\n",
       "<p>9196 rows × 4 columns</p>\n",
       "</div>"
      ],
      "text/plain": [
       "                                                   body  polarity  \\\n",
       "0     currently, a user has to open the chat action ...  positive   \n",
       "1     \"prevent unauthorized transactions in your dem...  positive   \n",
       "2     the world's number one cryptocurrency, bitcoin...  positive   \n",
       "3     aden, aug (reuters) - yemen will receive about...  negative   \n",
       "4     with the aspi surging past the , mark for the ...  positive   \n",
       "...                                                 ...       ...   \n",
       "9321  quebec-based startup raised a series a to exte...  positive   \n",
       "9322  as per the draft red herring prospectus (drhp)...   neutral   \n",
       "9323  asia-pacific markets mostly gain as investors ...  positive   \n",
       "9324  over the last couple of years, there has been ...   neutral   \n",
       "9325  european spend management startup payhawk has ...  positive   \n",
       "\n",
       "                                               text_new  \\\n",
       "0     currently a user has to open the chat action s...   \n",
       "1     prevent unauthorized transactions in your dema...   \n",
       "2     the worlds number one cryptocurrency bitcoin h...   \n",
       "3     aden aug reuters  yemen will receive about  mi...   \n",
       "4     with the aspi surging past the  mark for the n...   \n",
       "...                                                 ...   \n",
       "9321  quebecbased startup raised a series a to exten...   \n",
       "9322  as per the draft red herring prospectus drhp f...   \n",
       "9323  asiapacific markets mostly gain as investors w...   \n",
       "9324  over the last couple of years there has been a...   \n",
       "9325  european spend management startup payhawk has ...   \n",
       "\n",
       "                                             Text_Final  \n",
       "0     current user open chat action sheet order send...  \n",
       "1     prevent unauthor transact demat trade account ...  \n",
       "2     world number one cryptocurr bitcoin top mark f...  \n",
       "3     aden aug reuter yemen receiv million worth res...  \n",
       "4     aspi surg past mark nd time take account econo...  \n",
       "...                                                 ...  \n",
       "9321  quebecbas startup rais seri extend leadership ...  \n",
       "9322  per draft red her prospectu drhp file life ins...  \n",
       "9323  asiapacif market mostli gain investor weigh ru...  \n",
       "9324  last coupl year exponenti flow invest agritech...  \n",
       "9325  european spend manag startup payhawk ad millio...  \n",
       "\n",
       "[9196 rows x 4 columns]"
      ]
     },
     "execution_count": 27,
     "metadata": {},
     "output_type": "execute_result"
    }
   ],
   "source": [
    "df"
   ]
  },
  {
   "cell_type": "code",
   "execution_count": 28,
   "id": "6029ea8e",
   "metadata": {},
   "outputs": [],
   "source": [
    "df = df[['Text_Final','polarity']]"
   ]
  },
  {
   "cell_type": "code",
   "execution_count": 29,
   "id": "11afdf1c",
   "metadata": {
    "scrolled": true
   },
   "outputs": [
    {
     "name": "stderr",
     "output_type": "stream",
     "text": [
      "C:\\Users\\denni\\AppData\\Local\\Temp\\ipykernel_5368\\3367682685.py:3: SettingWithCopyWarning: \n",
      "A value is trying to be set on a copy of a slice from a DataFrame\n",
      "\n",
      "See the caveats in the documentation: https://pandas.pydata.org/pandas-docs/stable/user_guide/indexing.html#returning-a-view-versus-a-copy\n",
      "  df['polarity'].replace(repl, inplace=True)\n"
     ]
    }
   ],
   "source": [
    "# Encode target labels\n",
    "repl = {'neutral':0,'positive':1,'negative':2}\n",
    "df['polarity'].replace(repl, inplace=True)"
   ]
  },
  {
   "cell_type": "code",
   "execution_count": 30,
   "id": "cd779c46",
   "metadata": {},
   "outputs": [],
   "source": [
    "from sklearn.model_selection import train_test_split"
   ]
  },
  {
   "cell_type": "code",
   "execution_count": 31,
   "id": "bc74e004",
   "metadata": {},
   "outputs": [],
   "source": [
    "X = df['Text_Final']\n",
    "y = df['polarity']"
   ]
  },
  {
   "cell_type": "code",
   "execution_count": 32,
   "id": "3dce9ca7",
   "metadata": {},
   "outputs": [],
   "source": [
    "X_train, X_test, y_train, y_test = train_test_split(X, y,\n",
    "                                                     test_size=0.3,\n",
    "                                                     random_state=42)"
   ]
  },
  {
   "cell_type": "code",
   "execution_count": 33,
   "id": "a4bd1802",
   "metadata": {},
   "outputs": [],
   "source": [
    "train_data = {'text' : X_train,\n",
    "              'label': y_train}\n",
    "\n",
    "test_data  = {'text' : X_test,\n",
    "              'label': y_test}"
   ]
  },
  {
   "cell_type": "code",
   "execution_count": 34,
   "id": "0a32e8c5",
   "metadata": {},
   "outputs": [],
   "source": [
    "train_df = pd.DataFrame(train_data)\n",
    "test_df  = pd.DataFrame(test_data)"
   ]
  },
  {
   "cell_type": "code",
   "execution_count": 35,
   "id": "e415a9b9",
   "metadata": {},
   "outputs": [],
   "source": [
    "train = train_df\n",
    "test = test_df"
   ]
  },
  {
   "cell_type": "code",
   "execution_count": 36,
   "id": "3efa326c",
   "metadata": {},
   "outputs": [
    {
     "data": {
      "text/html": [
       "<div>\n",
       "<style scoped>\n",
       "    .dataframe tbody tr th:only-of-type {\n",
       "        vertical-align: middle;\n",
       "    }\n",
       "\n",
       "    .dataframe tbody tr th {\n",
       "        vertical-align: top;\n",
       "    }\n",
       "\n",
       "    .dataframe thead th {\n",
       "        text-align: right;\n",
       "    }\n",
       "</style>\n",
       "<table border=\"1\" class=\"dataframe\">\n",
       "  <thead>\n",
       "    <tr style=\"text-align: right;\">\n",
       "      <th></th>\n",
       "      <th>text</th>\n",
       "      <th>label</th>\n",
       "    </tr>\n",
       "  </thead>\n",
       "  <tbody>\n",
       "    <tr>\n",
       "      <th>5655</th>\n",
       "      <td>agreena danish startup mint verifi sell carbon...</td>\n",
       "      <td>1</td>\n",
       "    </tr>\n",
       "    <tr>\n",
       "      <th>5663</th>\n",
       "      <td>amsterdambas tech startup theydo platform prov...</td>\n",
       "      <td>1</td>\n",
       "    </tr>\n",
       "    <tr>\n",
       "      <th>8673</th>\n",
       "      <td>igor nikushinshutterstockimagin your read murd...</td>\n",
       "      <td>1</td>\n",
       "    </tr>\n",
       "    <tr>\n",
       "      <th>6243</th>\n",
       "      <td>radiolog ai startup qureai close mn fund round...</td>\n",
       "      <td>1</td>\n",
       "    </tr>\n",
       "    <tr>\n",
       "      <th>5993</th>\n",
       "      <td>londonbas gravitiq healthcar brand aggreg foun...</td>\n",
       "      <td>1</td>\n",
       "    </tr>\n",
       "    <tr>\n",
       "      <th>...</th>\n",
       "      <td>...</td>\n",
       "      <td>...</td>\n",
       "    </tr>\n",
       "    <tr>\n",
       "      <th>5834</th>\n",
       "      <td>octob dutch author consum market acm found tec...</td>\n",
       "      <td>2</td>\n",
       "    </tr>\n",
       "    <tr>\n",
       "      <th>5291</th>\n",
       "      <td>give crap ceo simon griffith among group start...</td>\n",
       "      <td>1</td>\n",
       "    </tr>\n",
       "    <tr>\n",
       "      <th>5490</th>\n",
       "      <td>welcom ignit lane weekli wrap cut nois bring f...</td>\n",
       "      <td>1</td>\n",
       "    </tr>\n",
       "    <tr>\n",
       "      <th>922</th>\n",
       "      <td>shanghai china stock mix thursday investor tur...</td>\n",
       "      <td>2</td>\n",
       "    </tr>\n",
       "    <tr>\n",
       "      <th>7392</th>\n",
       "      <td>know saturday usual sleep hope dont sleep roun...</td>\n",
       "      <td>1</td>\n",
       "    </tr>\n",
       "  </tbody>\n",
       "</table>\n",
       "<p>6437 rows × 2 columns</p>\n",
       "</div>"
      ],
      "text/plain": [
       "                                                   text  label\n",
       "5655  agreena danish startup mint verifi sell carbon...      1\n",
       "5663  amsterdambas tech startup theydo platform prov...      1\n",
       "8673  igor nikushinshutterstockimagin your read murd...      1\n",
       "6243  radiolog ai startup qureai close mn fund round...      1\n",
       "5993  londonbas gravitiq healthcar brand aggreg foun...      1\n",
       "...                                                 ...    ...\n",
       "5834  octob dutch author consum market acm found tec...      2\n",
       "5291  give crap ceo simon griffith among group start...      1\n",
       "5490  welcom ignit lane weekli wrap cut nois bring f...      1\n",
       "922   shanghai china stock mix thursday investor tur...      2\n",
       "7392  know saturday usual sleep hope dont sleep roun...      1\n",
       "\n",
       "[6437 rows x 2 columns]"
      ]
     },
     "execution_count": 36,
     "metadata": {},
     "output_type": "execute_result"
    }
   ],
   "source": [
    "train"
   ]
  },
  {
   "cell_type": "code",
   "execution_count": 37,
   "id": "7787d55f",
   "metadata": {},
   "outputs": [],
   "source": [
    "y_train = train['label'].tolist()"
   ]
  },
  {
   "cell_type": "code",
   "execution_count": 38,
   "id": "359cd259",
   "metadata": {},
   "outputs": [],
   "source": [
    "import codecs\n",
    "from tqdm import tqdm\n",
    "import numpy as np"
   ]
  },
  {
   "cell_type": "code",
   "execution_count": 39,
   "id": "e667a84f",
   "metadata": {},
   "outputs": [
    {
     "name": "stdout",
     "output_type": "stream",
     "text": [
      "\n",
      "=============================\n",
      " > Loading Word Embeddings > \n",
      "=============================\n"
     ]
    },
    {
     "name": "stderr",
     "output_type": "stream",
     "text": [
      "1999996it [02:34, 12908.38it/s]"
     ]
    },
    {
     "name": "stdout",
     "output_type": "stream",
     "text": [
      "\n",
      "\n",
      "Number of Word Vectors :  1999996\n",
      "Number of Train Data   :  6437\n",
      "Number of Test Data    :  2759\n"
     ]
    },
    {
     "name": "stderr",
     "output_type": "stream",
     "text": [
      "\n"
     ]
    }
   ],
   "source": [
    "print('\\n=============================')\n",
    "print(' > Loading Word Embeddings > ')\n",
    "print('=============================')\n",
    "\n",
    "embeddings_index = {}\n",
    "\n",
    "f = codecs.open(r\"C:\\Users\\denni\\Documents\\Kerja\\crawl-300d-2M.vec\\crawl-300d-2M.vec\", encoding='utf-8')\n",
    "\n",
    "for line in tqdm(f):\n",
    "  values = line.rstrip().rsplit(' ')\n",
    "  word = values[0]\n",
    "  coefs = np.asarray(values[1:], dtype='float32')\n",
    "  embeddings_index[word] = coefs\n",
    "\n",
    "f.close()\n",
    "\n",
    "print('\\n\\nNumber of Word Vectors : ', len(embeddings_index))\n",
    "print('Number of Train Data   : ', train.shape[0])\n",
    "print('Number of Test Data    : ', test.shape[0])"
   ]
  },
  {
   "cell_type": "code",
   "execution_count": 40,
   "id": "59e40979",
   "metadata": {},
   "outputs": [],
   "source": [
    "label_names = ['neutral', 'positive','negative']\n",
    "\n",
    "train['doc_len'] = train['text'].apply(lambda words: len(words.split(' ')))\n",
    "\n",
    "max_seq_len = np.max(train['doc_len'])+1"
   ]
  },
  {
   "cell_type": "code",
   "execution_count": 41,
   "id": "1580fe0d",
   "metadata": {},
   "outputs": [],
   "source": [
    "from keras.preprocessing.text import Tokenizer\n",
    "from keras.preprocessing import sequence"
   ]
  },
  {
   "cell_type": "code",
   "execution_count": 42,
   "id": "11a4a2a0",
   "metadata": {},
   "outputs": [
    {
     "name": "stdout",
     "output_type": "stream",
     "text": [
      "=============================\n",
      " >> Tokenizing Input Data >> \n",
      "=============================\n",
      "Dictionary Size:  132789\n"
     ]
    }
   ],
   "source": [
    "raw_docs_train = train['text'].tolist()\n",
    "raw_docs_test  = test['text'].tolist()\n",
    "\n",
    "\n",
    "MAX_NB_WORDS = 10000\n",
    "num_classes = len(label_names)\n",
    "\n",
    "print('=============================')\n",
    "print(' >> Tokenizing Input Data >> ')\n",
    "print('=============================')\n",
    "\n",
    "tokenizer = Tokenizer(num_words=MAX_NB_WORDS,\n",
    "                      lower=True,\n",
    "                      char_level=False)\n",
    "tokenizer.fit_on_texts(raw_docs_train + raw_docs_test)\n",
    "\n",
    "\n",
    "word_seq_train = tokenizer.texts_to_sequences(raw_docs_train)\n",
    "word_seq_test  = tokenizer.texts_to_sequences(raw_docs_test)\n",
    "\n",
    "word_index = tokenizer.word_index\n",
    "\n",
    "print('Dictionary Size: ', len(word_index))\n",
    "\n",
    "word_seq_train = sequence.pad_sequences(word_seq_train, maxlen = max_seq_len)\n",
    "word_seq_test  = sequence.pad_sequences(word_seq_test, maxlen = max_seq_len)"
   ]
  },
  {
   "cell_type": "code",
   "execution_count": 43,
   "id": "8f504b9f",
   "metadata": {},
   "outputs": [],
   "source": [
    "batch_size  = 32\n",
    "num_epochs  = 200\n",
    "\n",
    "embed_dim   = 300\n",
    "num_filters = 64"
   ]
  },
  {
   "cell_type": "code",
   "execution_count": 44,
   "id": "d09a6448",
   "metadata": {},
   "outputs": [
    {
     "name": "stdout",
     "output_type": "stream",
     "text": [
      "==================================\n",
      " >> Preparing Embedding Matrix >> \n",
      "==================================\n",
      "Number of Null Word Embeddings : 2432\n",
      "Sample Words Not Found         : ['wallpap' 'nonexecut' 'randomli' 'refineri' 'fastgrow']\n"
     ]
    }
   ],
   "source": [
    "print('==================================')\n",
    "print(' >> Preparing Embedding Matrix >> ')\n",
    "print('==================================')\n",
    "\n",
    "words_not_found = []\n",
    "\n",
    "nb_words = min(MAX_NB_WORDS, len(word_index))\n",
    "\n",
    "embedding_matrix = np.zeros((nb_words+1, embed_dim))\n",
    "\n",
    "for word, i in word_index.items():\n",
    "  if i >= nb_words:\n",
    "    continue\n",
    "  embedding_vector = embeddings_index.get(word)\n",
    "  if (embedding_vector is not None) and len(embedding_vector) > 0:\n",
    "    embedding_matrix[i] = embedding_vector\n",
    "  else:\n",
    "    words_not_found.append(word)\n",
    "\n",
    "print('Number of Null Word Embeddings : %d' % np.sum(np.sum(embedding_matrix, axis=1) == 0))\n",
    "print(\"Sample Words Not Found         :\", np.random.choice(words_not_found, 5))"
   ]
  },
  {
   "cell_type": "code",
   "execution_count": 45,
   "id": "faf4fb0d",
   "metadata": {},
   "outputs": [
    {
     "name": "stdout",
     "output_type": "stream",
     "text": [
      "Sample Words Not Found         : ['cerebra' 'eufi' 'tenabl' ... 'ogoship' 'findabl' 'wildlif']\n"
     ]
    }
   ],
   "source": [
    "print(\"Sample Words Not Found         :\", np.random.choice(words_not_found, 3363))"
   ]
  },
  {
   "cell_type": "code",
   "execution_count": 46,
   "id": "9438dd19",
   "metadata": {},
   "outputs": [],
   "source": [
    "from tensorflow.keras.utils import to_categorical"
   ]
  },
  {
   "cell_type": "code",
   "execution_count": 47,
   "id": "d6d78e29",
   "metadata": {},
   "outputs": [],
   "source": [
    "target = []\n",
    "\n",
    "for i in train['label']:\n",
    "  if i == 0:\n",
    "    target.append(0)\n",
    "  elif i == 1:\n",
    "    target.append(1)\n",
    "  elif i == 2:\n",
    "    target.append(2)\n",
    "\n",
    "train['new_label'] = target\n",
    "\n",
    "train_labels = to_categorical(train['new_label'])"
   ]
  },
  {
   "cell_type": "code",
   "execution_count": 48,
   "id": "a9582d03",
   "metadata": {},
   "outputs": [],
   "source": [
    "from keras.models import Sequential, load_model\n",
    "from keras.layers import Embedding, Conv1D, MaxPooling1D, GlobalMaxPooling1D \n",
    "from keras.layers import Embedding, Bidirectional, LSTM, GRU, Dense\n",
    "# import library untuk melakukan pemodelan\n",
    "import tensorflow as tf\n",
    "import keras\n",
    "from keras.preprocessing.text import Tokenizer\n",
    "from keras.models import Sequential\n",
    "from keras.layers import Dense, Embedding, LSTM,GlobalMaxPool1D\n",
    "from keras.callbacks import EarlyStopping\n",
    "from keras.preprocessing.sequence import pad_sequences\n",
    "from keras.regularizers import l2"
   ]
  },
  {
   "cell_type": "code",
   "execution_count": 49,
   "id": "062d440d",
   "metadata": {},
   "outputs": [],
   "source": [
    "# model keras sequental\n",
    "model = keras.models.Sequential([\n",
    "    keras.layers.Embedding(nb_words+1, embed_dim,\n",
    "                    weights=[embedding_matrix],\n",
    "                    input_length=max_seq_len,\n",
    "                    trainable=False),\n",
    "    keras.layers.Dropout(0.5),\n",
    "    keras.layers.Dense(20, activation='relu'),\n",
    "    keras.layers.Dropout(0.5),\n",
    "    keras.layers.LSTM(20,activation=\"tanh\"),\n",
    "    keras.layers.Dropout(0.5),\n",
    "    keras.layers.Dense(3, activation='softmax')\n",
    "])"
   ]
  },
  {
   "cell_type": "code",
   "execution_count": 50,
   "id": "547470d5",
   "metadata": {
    "scrolled": true
   },
   "outputs": [
    {
     "name": "stdout",
     "output_type": "stream",
     "text": [
      "Model: \"sequential\"\n",
      "_________________________________________________________________\n",
      " Layer (type)                Output Shape              Param #   \n",
      "=================================================================\n",
      " embedding (Embedding)       (None, 4716, 300)         3000300   \n",
      "                                                                 \n",
      " dropout (Dropout)           (None, 4716, 300)         0         \n",
      "                                                                 \n",
      " dense (Dense)               (None, 4716, 20)          6020      \n",
      "                                                                 \n",
      " dropout_1 (Dropout)         (None, 4716, 20)          0         \n",
      "                                                                 \n",
      " lstm (LSTM)                 (None, 20)                3280      \n",
      "                                                                 \n",
      " dropout_2 (Dropout)         (None, 20)                0         \n",
      "                                                                 \n",
      " dense_1 (Dense)             (None, 3)                 63        \n",
      "                                                                 \n",
      "=================================================================\n",
      "Total params: 3,009,663\n",
      "Trainable params: 9,363\n",
      "Non-trainable params: 3,000,300\n",
      "_________________________________________________________________\n"
     ]
    }
   ],
   "source": [
    "model.compile(loss='categorical_crossentropy', optimizer=tf.keras.optimizers.Adam(), metrics=['accuracy'])\n",
    "model.summary()"
   ]
  },
  {
   "cell_type": "code",
   "execution_count": 51,
   "id": "872c9bb8",
   "metadata": {
    "scrolled": true
   },
   "outputs": [
    {
     "name": "stdout",
     "output_type": "stream",
     "text": [
      "Epoch 1/200\n",
      "161/161 - 41s - loss: 0.7290 - accuracy: 0.7497 - val_loss: 0.5874 - val_accuracy: 0.7616 - 41s/epoch - 255ms/step\n",
      "Epoch 2/200\n",
      "161/161 - 34s - loss: 0.6014 - accuracy: 0.7753 - val_loss: 0.5648 - val_accuracy: 0.7733 - 34s/epoch - 209ms/step\n",
      "Epoch 3/200\n",
      "161/161 - 34s - loss: 0.5721 - accuracy: 0.7817 - val_loss: 0.5788 - val_accuracy: 0.7725 - 34s/epoch - 211ms/step\n",
      "Epoch 4/200\n",
      "161/161 - 34s - loss: 0.5514 - accuracy: 0.7833 - val_loss: 0.5183 - val_accuracy: 0.7780 - 34s/epoch - 213ms/step\n",
      "Epoch 5/200\n",
      "161/161 - 35s - loss: 0.5476 - accuracy: 0.7846 - val_loss: 0.5194 - val_accuracy: 0.7733 - 35s/epoch - 217ms/step\n",
      "Epoch 6/200\n",
      "161/161 - 35s - loss: 0.5272 - accuracy: 0.7862 - val_loss: 0.5111 - val_accuracy: 0.7818 - 35s/epoch - 219ms/step\n",
      "Epoch 7/200\n",
      "161/161 - 35s - loss: 0.5189 - accuracy: 0.7893 - val_loss: 0.5823 - val_accuracy: 0.7671 - 35s/epoch - 215ms/step\n",
      "Epoch 8/200\n",
      "161/161 - 34s - loss: 0.5353 - accuracy: 0.7897 - val_loss: 0.5514 - val_accuracy: 0.7244 - 34s/epoch - 211ms/step\n",
      "Epoch 9/200\n",
      "161/161 - 35s - loss: 0.4861 - accuracy: 0.7963 - val_loss: 0.4845 - val_accuracy: 0.7873 - 35s/epoch - 216ms/step\n",
      "Epoch 10/200\n",
      "161/161 - 34s - loss: 0.4928 - accuracy: 0.7976 - val_loss: 0.4807 - val_accuracy: 0.7880 - 34s/epoch - 212ms/step\n",
      "Epoch 11/200\n",
      "161/161 - 34s - loss: 0.5013 - accuracy: 0.7963 - val_loss: 0.4724 - val_accuracy: 0.7919 - 34s/epoch - 214ms/step\n",
      "Epoch 12/200\n",
      "161/161 - 34s - loss: 0.4833 - accuracy: 0.8029 - val_loss: 0.4657 - val_accuracy: 0.7989 - 34s/epoch - 211ms/step\n",
      "Epoch 13/200\n",
      "161/161 - 34s - loss: 0.4573 - accuracy: 0.8071 - val_loss: 0.4668 - val_accuracy: 0.7919 - 34s/epoch - 212ms/step\n",
      "Epoch 14/200\n",
      "161/161 - 34s - loss: 0.4532 - accuracy: 0.8120 - val_loss: 0.4760 - val_accuracy: 0.8051 - 34s/epoch - 212ms/step\n",
      "Epoch 15/200\n",
      "161/161 - 34s - loss: 0.4525 - accuracy: 0.8157 - val_loss: 0.4508 - val_accuracy: 0.7981 - 34s/epoch - 211ms/step\n",
      "Epoch 16/200\n",
      "161/161 - 34s - loss: 0.4393 - accuracy: 0.8153 - val_loss: 0.4374 - val_accuracy: 0.8245 - 34s/epoch - 213ms/step\n",
      "Epoch 17/200\n",
      "161/161 - 34s - loss: 0.4432 - accuracy: 0.8172 - val_loss: 0.4462 - val_accuracy: 0.8175 - 34s/epoch - 214ms/step\n",
      "Epoch 18/200\n",
      "161/161 - 34s - loss: 0.4645 - accuracy: 0.7959 - val_loss: 0.4286 - val_accuracy: 0.8276 - 34s/epoch - 214ms/step\n",
      "Epoch 19/200\n",
      "161/161 - 34s - loss: 0.4346 - accuracy: 0.8147 - val_loss: 0.4372 - val_accuracy: 0.7888 - 34s/epoch - 210ms/step\n",
      "Epoch 20/200\n",
      "161/161 - 34s - loss: 0.4285 - accuracy: 0.8225 - val_loss: 0.4180 - val_accuracy: 0.8432 - 34s/epoch - 209ms/step\n",
      "Epoch 21/200\n",
      "161/161 - 34s - loss: 0.4358 - accuracy: 0.8217 - val_loss: 0.4652 - val_accuracy: 0.8175 - 34s/epoch - 211ms/step\n",
      "Epoch 22/200\n",
      "161/161 - 34s - loss: 0.4187 - accuracy: 0.8320 - val_loss: 0.4150 - val_accuracy: 0.8354 - 34s/epoch - 209ms/step\n",
      "Epoch 23/200\n",
      "161/161 - 34s - loss: 0.4163 - accuracy: 0.8244 - val_loss: 0.4318 - val_accuracy: 0.8269 - 34s/epoch - 213ms/step\n",
      "Epoch 24/200\n",
      "161/161 - 35s - loss: 0.4266 - accuracy: 0.8124 - val_loss: 0.4462 - val_accuracy: 0.8331 - 35s/epoch - 219ms/step\n",
      "Epoch 25/200\n",
      "161/161 - 34s - loss: 0.4104 - accuracy: 0.8299 - val_loss: 0.4068 - val_accuracy: 0.8191 - 34s/epoch - 213ms/step\n",
      "Epoch 26/200\n",
      "161/161 - 35s - loss: 0.4437 - accuracy: 0.8124 - val_loss: 0.4674 - val_accuracy: 0.7989 - 35s/epoch - 218ms/step\n",
      "Epoch 27/200\n",
      "161/161 - 35s - loss: 0.4394 - accuracy: 0.8190 - val_loss: 0.4284 - val_accuracy: 0.8385 - 35s/epoch - 216ms/step\n",
      "Epoch 28/200\n",
      "161/161 - 34s - loss: 0.4225 - accuracy: 0.8188 - val_loss: 0.4025 - val_accuracy: 0.8284 - 34s/epoch - 210ms/step\n",
      "Epoch 29/200\n",
      "161/161 - 35s - loss: 0.4103 - accuracy: 0.8285 - val_loss: 0.4241 - val_accuracy: 0.8144 - 35s/epoch - 215ms/step\n",
      "Epoch 30/200\n",
      "161/161 - 34s - loss: 0.4021 - accuracy: 0.8268 - val_loss: 0.4266 - val_accuracy: 0.8168 - 34s/epoch - 210ms/step\n",
      "Epoch 31/200\n",
      "161/161 - 34s - loss: 0.4340 - accuracy: 0.8194 - val_loss: 0.4588 - val_accuracy: 0.7911 - 34s/epoch - 213ms/step\n",
      "Epoch 32/200\n",
      "161/161 - 34s - loss: 0.4184 - accuracy: 0.8235 - val_loss: 0.3984 - val_accuracy: 0.8331 - 34s/epoch - 212ms/step\n",
      "Epoch 33/200\n",
      "161/161 - 35s - loss: 0.3972 - accuracy: 0.8268 - val_loss: 0.4080 - val_accuracy: 0.8199 - 35s/epoch - 216ms/step\n",
      "Epoch 34/200\n",
      "161/161 - 34s - loss: 0.3836 - accuracy: 0.8437 - val_loss: 0.4068 - val_accuracy: 0.8284 - 34s/epoch - 211ms/step\n",
      "Epoch 35/200\n",
      "161/161 - 34s - loss: 0.3809 - accuracy: 0.8378 - val_loss: 0.4039 - val_accuracy: 0.8245 - 34s/epoch - 212ms/step\n",
      "Epoch 36/200\n",
      "161/161 - 34s - loss: 0.3804 - accuracy: 0.8442 - val_loss: 0.3883 - val_accuracy: 0.8424 - 34s/epoch - 209ms/step\n",
      "Epoch 37/200\n",
      "161/161 - 35s - loss: 0.3819 - accuracy: 0.8440 - val_loss: 0.3692 - val_accuracy: 0.8478 - 35s/epoch - 220ms/step\n",
      "Epoch 38/200\n",
      "161/161 - 34s - loss: 0.3729 - accuracy: 0.8460 - val_loss: 0.3943 - val_accuracy: 0.8269 - 34s/epoch - 213ms/step\n",
      "Epoch 39/200\n",
      "161/161 - 35s - loss: 0.3734 - accuracy: 0.8464 - val_loss: 0.3768 - val_accuracy: 0.8346 - 35s/epoch - 216ms/step\n",
      "Epoch 40/200\n",
      "161/161 - 34s - loss: 0.3771 - accuracy: 0.8413 - val_loss: 0.3799 - val_accuracy: 0.8470 - 34s/epoch - 211ms/step\n",
      "Epoch 41/200\n",
      "161/161 - 34s - loss: 0.3873 - accuracy: 0.8421 - val_loss: 0.4228 - val_accuracy: 0.8199 - 34s/epoch - 212ms/step\n",
      "Epoch 42/200\n",
      "161/161 - 34s - loss: 0.3799 - accuracy: 0.8435 - val_loss: 0.3840 - val_accuracy: 0.8486 - 34s/epoch - 210ms/step\n",
      "Epoch 43/200\n",
      "161/161 - 34s - loss: 0.3772 - accuracy: 0.8435 - val_loss: 0.3754 - val_accuracy: 0.8424 - 34s/epoch - 212ms/step\n",
      "Epoch 44/200\n",
      "161/161 - 35s - loss: 0.3600 - accuracy: 0.8446 - val_loss: 0.3645 - val_accuracy: 0.8455 - 35s/epoch - 215ms/step\n",
      "Epoch 45/200\n",
      "161/161 - 34s - loss: 0.3701 - accuracy: 0.8450 - val_loss: 0.3771 - val_accuracy: 0.8447 - 34s/epoch - 211ms/step\n",
      "Epoch 46/200\n",
      "161/161 - 34s - loss: 0.4069 - accuracy: 0.8324 - val_loss: 0.4191 - val_accuracy: 0.8160 - 34s/epoch - 214ms/step\n",
      "Epoch 47/200\n",
      "161/161 - 35s - loss: 0.3758 - accuracy: 0.8415 - val_loss: 0.3830 - val_accuracy: 0.8362 - 35s/epoch - 216ms/step\n",
      "Epoch 48/200\n",
      "161/161 - 35s - loss: 0.3631 - accuracy: 0.8472 - val_loss: 0.3603 - val_accuracy: 0.8478 - 35s/epoch - 220ms/step\n",
      "Epoch 49/200\n",
      "161/161 - 34s - loss: 0.3514 - accuracy: 0.8536 - val_loss: 0.3734 - val_accuracy: 0.8509 - 34s/epoch - 214ms/step\n",
      "Epoch 50/200\n",
      "161/161 - 34s - loss: 0.3600 - accuracy: 0.8501 - val_loss: 0.3431 - val_accuracy: 0.8571 - 34s/epoch - 211ms/step\n",
      "Epoch 51/200\n",
      "161/161 - 35s - loss: 0.3613 - accuracy: 0.8534 - val_loss: 0.3634 - val_accuracy: 0.8432 - 35s/epoch - 219ms/step\n",
      "Epoch 52/200\n",
      "161/161 - 35s - loss: 0.3666 - accuracy: 0.8507 - val_loss: 0.3642 - val_accuracy: 0.8447 - 35s/epoch - 214ms/step\n",
      "Epoch 53/200\n",
      "161/161 - 35s - loss: 0.3532 - accuracy: 0.8512 - val_loss: 0.3390 - val_accuracy: 0.8595 - 35s/epoch - 216ms/step\n",
      "Epoch 54/200\n",
      "161/161 - 35s - loss: 0.3465 - accuracy: 0.8567 - val_loss: 0.3522 - val_accuracy: 0.8502 - 35s/epoch - 218ms/step\n",
      "Epoch 55/200\n",
      "161/161 - 34s - loss: 0.3656 - accuracy: 0.8522 - val_loss: 0.3339 - val_accuracy: 0.8587 - 34s/epoch - 214ms/step\n",
      "Epoch 56/200\n",
      "161/161 - 34s - loss: 0.3466 - accuracy: 0.8555 - val_loss: 0.3806 - val_accuracy: 0.8307 - 34s/epoch - 212ms/step\n",
      "Epoch 57/200\n",
      "161/161 - 34s - loss: 0.3510 - accuracy: 0.8590 - val_loss: 0.3504 - val_accuracy: 0.8540 - 34s/epoch - 214ms/step\n",
      "Epoch 58/200\n",
      "161/161 - 34s - loss: 0.3515 - accuracy: 0.8557 - val_loss: 0.3421 - val_accuracy: 0.8540 - 34s/epoch - 214ms/step\n",
      "Epoch 59/200\n",
      "161/161 - 34s - loss: 0.3412 - accuracy: 0.8573 - val_loss: 0.3447 - val_accuracy: 0.8587 - 34s/epoch - 212ms/step\n",
      "Epoch 60/200\n",
      "161/161 - 35s - loss: 0.3459 - accuracy: 0.8545 - val_loss: 0.3324 - val_accuracy: 0.8579 - 35s/epoch - 220ms/step\n",
      "Epoch 61/200\n",
      "161/161 - 35s - loss: 0.3385 - accuracy: 0.8606 - val_loss: 0.3997 - val_accuracy: 0.8385 - 35s/epoch - 219ms/step\n",
      "Epoch 62/200\n",
      "161/161 - 35s - loss: 0.3418 - accuracy: 0.8592 - val_loss: 0.3399 - val_accuracy: 0.8641 - 35s/epoch - 220ms/step\n",
      "Epoch 63/200\n",
      "161/161 - 36s - loss: 0.3534 - accuracy: 0.8567 - val_loss: 0.3809 - val_accuracy: 0.8463 - 36s/epoch - 226ms/step\n",
      "Epoch 64/200\n",
      "161/161 - 36s - loss: 0.3368 - accuracy: 0.8637 - val_loss: 0.3562 - val_accuracy: 0.8509 - 36s/epoch - 221ms/step\n",
      "Epoch 65/200\n"
     ]
    },
    {
     "name": "stdout",
     "output_type": "stream",
     "text": [
      "161/161 - 36s - loss: 0.3383 - accuracy: 0.8611 - val_loss: 0.3599 - val_accuracy: 0.8447 - 36s/epoch - 224ms/step\n",
      "Epoch 66/200\n",
      "161/161 - 36s - loss: 0.3364 - accuracy: 0.8679 - val_loss: 0.3559 - val_accuracy: 0.8447 - 36s/epoch - 221ms/step\n",
      "Epoch 67/200\n",
      "161/161 - 36s - loss: 0.3431 - accuracy: 0.8578 - val_loss: 0.3375 - val_accuracy: 0.8509 - 36s/epoch - 226ms/step\n",
      "Epoch 68/200\n",
      "161/161 - 35s - loss: 0.3394 - accuracy: 0.8619 - val_loss: 0.3626 - val_accuracy: 0.8540 - 35s/epoch - 219ms/step\n",
      "Epoch 69/200\n",
      "161/161 - 34s - loss: 0.3381 - accuracy: 0.8613 - val_loss: 0.3406 - val_accuracy: 0.8540 - 34s/epoch - 212ms/step\n",
      "Epoch 70/200\n",
      "161/161 - 35s - loss: 0.3430 - accuracy: 0.8592 - val_loss: 0.3188 - val_accuracy: 0.8680 - 35s/epoch - 217ms/step\n",
      "Epoch 71/200\n",
      "161/161 - 35s - loss: 0.3362 - accuracy: 0.8600 - val_loss: 0.3564 - val_accuracy: 0.8657 - 35s/epoch - 215ms/step\n",
      "Epoch 72/200\n",
      "161/161 - 35s - loss: 0.3330 - accuracy: 0.8633 - val_loss: 0.3575 - val_accuracy: 0.8478 - 35s/epoch - 220ms/step\n",
      "Epoch 73/200\n",
      "161/161 - 35s - loss: 0.3288 - accuracy: 0.8691 - val_loss: 0.3496 - val_accuracy: 0.8649 - 35s/epoch - 218ms/step\n",
      "Epoch 74/200\n",
      "161/161 - 36s - loss: 0.3393 - accuracy: 0.8619 - val_loss: 0.3641 - val_accuracy: 0.8602 - 36s/epoch - 224ms/step\n",
      "Epoch 75/200\n",
      "161/161 - 36s - loss: 0.3376 - accuracy: 0.8594 - val_loss: 0.3502 - val_accuracy: 0.8595 - 36s/epoch - 222ms/step\n",
      "Epoch 76/200\n",
      "161/161 - 36s - loss: 0.3444 - accuracy: 0.8580 - val_loss: 0.3402 - val_accuracy: 0.8595 - 36s/epoch - 222ms/step\n",
      "Epoch 77/200\n",
      "161/161 - 36s - loss: 0.3320 - accuracy: 0.8677 - val_loss: 0.3553 - val_accuracy: 0.8494 - 36s/epoch - 224ms/step\n",
      "Epoch 78/200\n",
      "161/161 - 35s - loss: 0.3437 - accuracy: 0.8594 - val_loss: 0.3446 - val_accuracy: 0.8602 - 35s/epoch - 218ms/step\n",
      "Epoch 79/200\n",
      "161/161 - 36s - loss: 0.3355 - accuracy: 0.8677 - val_loss: 0.3390 - val_accuracy: 0.8579 - 36s/epoch - 225ms/step\n",
      "Epoch 80/200\n",
      "161/161 - 35s - loss: 0.3331 - accuracy: 0.8672 - val_loss: 0.3498 - val_accuracy: 0.8564 - 35s/epoch - 220ms/step\n",
      "Epoch 81/200\n",
      "161/161 - 35s - loss: 0.3321 - accuracy: 0.8617 - val_loss: 0.3521 - val_accuracy: 0.8564 - 35s/epoch - 218ms/step\n",
      "Epoch 82/200\n",
      "161/161 - 35s - loss: 0.3322 - accuracy: 0.8592 - val_loss: 0.3528 - val_accuracy: 0.8742 - 35s/epoch - 220ms/step\n",
      "Epoch 83/200\n",
      "161/161 - 36s - loss: 0.3413 - accuracy: 0.8613 - val_loss: 0.3292 - val_accuracy: 0.8587 - 36s/epoch - 221ms/step\n",
      "Epoch 84/200\n",
      "161/161 - 35s - loss: 0.3318 - accuracy: 0.8648 - val_loss: 0.3566 - val_accuracy: 0.8533 - 35s/epoch - 217ms/step\n",
      "Epoch 85/200\n",
      "161/161 - 36s - loss: 0.3258 - accuracy: 0.8668 - val_loss: 0.3389 - val_accuracy: 0.8634 - 36s/epoch - 222ms/step\n",
      "Epoch 86/200\n",
      "161/161 - 35s - loss: 0.3328 - accuracy: 0.8683 - val_loss: 0.3819 - val_accuracy: 0.8533 - 35s/epoch - 218ms/step\n",
      "Epoch 87/200\n",
      "161/161 - 36s - loss: 0.3329 - accuracy: 0.8679 - val_loss: 0.3298 - val_accuracy: 0.8688 - 36s/epoch - 222ms/step\n",
      "Epoch 88/200\n",
      "161/161 - 35s - loss: 0.3248 - accuracy: 0.8641 - val_loss: 0.3230 - val_accuracy: 0.8665 - 35s/epoch - 219ms/step\n",
      "Epoch 89/200\n",
      "161/161 - 36s - loss: 0.3278 - accuracy: 0.8687 - val_loss: 0.3387 - val_accuracy: 0.8595 - 36s/epoch - 224ms/step\n",
      "Epoch 90/200\n",
      "161/161 - 35s - loss: 0.3263 - accuracy: 0.8652 - val_loss: 0.3479 - val_accuracy: 0.8517 - 35s/epoch - 215ms/step\n",
      "Epoch 91/200\n",
      "161/161 - 36s - loss: 0.3311 - accuracy: 0.8656 - val_loss: 0.3238 - val_accuracy: 0.8688 - 36s/epoch - 223ms/step\n",
      "Epoch 92/200\n",
      "161/161 - 34s - loss: 0.3362 - accuracy: 0.8664 - val_loss: 0.3282 - val_accuracy: 0.8672 - 34s/epoch - 213ms/step\n",
      "Epoch 93/200\n",
      "161/161 - 34s - loss: 0.3248 - accuracy: 0.8672 - val_loss: 0.3246 - val_accuracy: 0.8657 - 34s/epoch - 213ms/step\n",
      "Epoch 94/200\n",
      "161/161 - 35s - loss: 0.3258 - accuracy: 0.8681 - val_loss: 0.3205 - val_accuracy: 0.8672 - 35s/epoch - 216ms/step\n",
      "Epoch 95/200\n",
      "161/161 - 35s - loss: 0.3301 - accuracy: 0.8672 - val_loss: 0.3289 - val_accuracy: 0.8665 - 35s/epoch - 218ms/step\n",
      "Epoch 96/200\n",
      "161/161 - 35s - loss: 0.3186 - accuracy: 0.8695 - val_loss: 0.3103 - val_accuracy: 0.8719 - 35s/epoch - 219ms/step\n",
      "Epoch 97/200\n",
      "161/161 - 35s - loss: 0.3235 - accuracy: 0.8675 - val_loss: 0.3484 - val_accuracy: 0.8626 - 35s/epoch - 218ms/step\n",
      "Epoch 98/200\n",
      "161/161 - 35s - loss: 0.3212 - accuracy: 0.8685 - val_loss: 0.3330 - val_accuracy: 0.8626 - 35s/epoch - 219ms/step\n",
      "Epoch 99/200\n",
      "161/161 - 35s - loss: 0.3203 - accuracy: 0.8662 - val_loss: 0.3406 - val_accuracy: 0.8649 - 35s/epoch - 216ms/step\n",
      "Epoch 100/200\n",
      "161/161 - 34s - loss: 0.3251 - accuracy: 0.8652 - val_loss: 0.3221 - val_accuracy: 0.8688 - 34s/epoch - 211ms/step\n",
      "Epoch 101/200\n",
      "161/161 - 34s - loss: 0.3280 - accuracy: 0.8613 - val_loss: 0.3557 - val_accuracy: 0.8595 - 34s/epoch - 210ms/step\n",
      "Epoch 102/200\n",
      "161/161 - 34s - loss: 0.3187 - accuracy: 0.8691 - val_loss: 0.3027 - val_accuracy: 0.8750 - 34s/epoch - 209ms/step\n",
      "Epoch 103/200\n",
      "161/161 - 34s - loss: 0.3203 - accuracy: 0.8699 - val_loss: 0.3190 - val_accuracy: 0.8719 - 34s/epoch - 212ms/step\n",
      "Epoch 104/200\n",
      "161/161 - 34s - loss: 0.3179 - accuracy: 0.8736 - val_loss: 0.3353 - val_accuracy: 0.8696 - 34s/epoch - 209ms/step\n",
      "Epoch 105/200\n",
      "161/161 - 34s - loss: 0.3331 - accuracy: 0.8697 - val_loss: 0.3505 - val_accuracy: 0.8657 - 34s/epoch - 209ms/step\n",
      "Epoch 106/200\n",
      "161/161 - 34s - loss: 0.3128 - accuracy: 0.8757 - val_loss: 0.3304 - val_accuracy: 0.8571 - 34s/epoch - 211ms/step\n",
      "Epoch 107/200\n",
      "161/161 - 34s - loss: 0.3237 - accuracy: 0.8648 - val_loss: 0.3915 - val_accuracy: 0.8470 - 34s/epoch - 212ms/step\n",
      "Epoch 108/200\n",
      "161/161 - 34s - loss: 0.3270 - accuracy: 0.8701 - val_loss: 0.3442 - val_accuracy: 0.8610 - 34s/epoch - 211ms/step\n",
      "Epoch 109/200\n",
      "161/161 - 35s - loss: 0.3041 - accuracy: 0.8745 - val_loss: 0.3224 - val_accuracy: 0.8657 - 35s/epoch - 216ms/step\n",
      "Epoch 110/200\n",
      "161/161 - 36s - loss: 0.3294 - accuracy: 0.8642 - val_loss: 0.3295 - val_accuracy: 0.8703 - 36s/epoch - 221ms/step\n",
      "Epoch 111/200\n",
      "161/161 - 34s - loss: 0.3198 - accuracy: 0.8699 - val_loss: 0.3272 - val_accuracy: 0.8688 - 34s/epoch - 213ms/step\n",
      "Epoch 112/200\n",
      "161/161 - 34s - loss: 0.3134 - accuracy: 0.8656 - val_loss: 0.3221 - val_accuracy: 0.8649 - 34s/epoch - 213ms/step\n",
      "Epoch 113/200\n",
      "161/161 - 34s - loss: 0.3101 - accuracy: 0.8767 - val_loss: 0.3223 - val_accuracy: 0.8703 - 34s/epoch - 213ms/step\n",
      "Epoch 114/200\n",
      "161/161 - 34s - loss: 0.3130 - accuracy: 0.8718 - val_loss: 0.3537 - val_accuracy: 0.8548 - 34s/epoch - 212ms/step\n",
      "Epoch 115/200\n",
      "161/161 - 34s - loss: 0.3154 - accuracy: 0.8681 - val_loss: 0.3407 - val_accuracy: 0.8610 - 34s/epoch - 210ms/step\n",
      "Epoch 116/200\n",
      "161/161 - 34s - loss: 0.3191 - accuracy: 0.8691 - val_loss: 0.3319 - val_accuracy: 0.8672 - 34s/epoch - 213ms/step\n",
      "Epoch 117/200\n",
      "161/161 - 34s - loss: 0.3083 - accuracy: 0.8734 - val_loss: 0.3219 - val_accuracy: 0.8641 - 34s/epoch - 214ms/step\n",
      "Epoch 118/200\n",
      "161/161 - 34s - loss: 0.3150 - accuracy: 0.8724 - val_loss: 0.3412 - val_accuracy: 0.8626 - 34s/epoch - 213ms/step\n",
      "Epoch 119/200\n",
      "161/161 - 34s - loss: 0.3257 - accuracy: 0.8681 - val_loss: 0.3318 - val_accuracy: 0.8696 - 34s/epoch - 214ms/step\n",
      "Epoch 120/200\n",
      "161/161 - 34s - loss: 0.3128 - accuracy: 0.8697 - val_loss: 0.3255 - val_accuracy: 0.8688 - 34s/epoch - 212ms/step\n",
      "Epoch 121/200\n",
      "161/161 - 33s - loss: 0.3167 - accuracy: 0.8732 - val_loss: 0.3273 - val_accuracy: 0.8626 - 33s/epoch - 208ms/step\n",
      "Epoch 122/200\n",
      "161/161 - 34s - loss: 0.3126 - accuracy: 0.8674 - val_loss: 0.3273 - val_accuracy: 0.8665 - 34s/epoch - 211ms/step\n",
      "Epoch 123/200\n",
      "161/161 - 34s - loss: 0.3140 - accuracy: 0.8722 - val_loss: 0.3234 - val_accuracy: 0.8703 - 34s/epoch - 212ms/step\n",
      "Epoch 124/200\n",
      "161/161 - 34s - loss: 0.3033 - accuracy: 0.8773 - val_loss: 0.3537 - val_accuracy: 0.8533 - 34s/epoch - 213ms/step\n",
      "Epoch 125/200\n",
      "161/161 - 34s - loss: 0.3124 - accuracy: 0.8699 - val_loss: 0.3169 - val_accuracy: 0.8758 - 34s/epoch - 211ms/step\n",
      "Epoch 126/200\n",
      "161/161 - 34s - loss: 0.3169 - accuracy: 0.8677 - val_loss: 0.3507 - val_accuracy: 0.8734 - 34s/epoch - 212ms/step\n",
      "Epoch 127/200\n",
      "161/161 - 34s - loss: 0.3113 - accuracy: 0.8743 - val_loss: 0.3158 - val_accuracy: 0.8719 - 34s/epoch - 213ms/step\n",
      "Epoch 128/200\n",
      "161/161 - 35s - loss: 0.3225 - accuracy: 0.8749 - val_loss: 0.3142 - val_accuracy: 0.8773 - 35s/epoch - 217ms/step\n"
     ]
    },
    {
     "name": "stdout",
     "output_type": "stream",
     "text": [
      "Epoch 129/200\n",
      "161/161 - 34s - loss: 0.3164 - accuracy: 0.8687 - val_loss: 0.3258 - val_accuracy: 0.8649 - 34s/epoch - 209ms/step\n",
      "Epoch 130/200\n",
      "161/161 - 35s - loss: 0.3208 - accuracy: 0.8701 - val_loss: 0.3187 - val_accuracy: 0.8696 - 35s/epoch - 219ms/step\n",
      "Epoch 131/200\n",
      "161/161 - 34s - loss: 0.3117 - accuracy: 0.8734 - val_loss: 0.3269 - val_accuracy: 0.8665 - 34s/epoch - 213ms/step\n",
      "Epoch 132/200\n",
      "161/161 - 34s - loss: 0.3209 - accuracy: 0.8689 - val_loss: 0.3116 - val_accuracy: 0.8703 - 34s/epoch - 212ms/step\n",
      "Epoch 133/200\n",
      "161/161 - 34s - loss: 0.3097 - accuracy: 0.8792 - val_loss: 0.3211 - val_accuracy: 0.8711 - 34s/epoch - 212ms/step\n",
      "Epoch 134/200\n",
      "161/161 - 34s - loss: 0.3140 - accuracy: 0.8703 - val_loss: 0.3564 - val_accuracy: 0.8641 - 34s/epoch - 209ms/step\n",
      "Epoch 135/200\n",
      "161/161 - 34s - loss: 0.3249 - accuracy: 0.8675 - val_loss: 0.3074 - val_accuracy: 0.8734 - 34s/epoch - 212ms/step\n",
      "Epoch 136/200\n",
      "161/161 - 34s - loss: 0.3100 - accuracy: 0.8726 - val_loss: 0.3100 - val_accuracy: 0.8750 - 34s/epoch - 213ms/step\n",
      "Epoch 137/200\n",
      "161/161 - 35s - loss: 0.3087 - accuracy: 0.8757 - val_loss: 0.3196 - val_accuracy: 0.8758 - 35s/epoch - 215ms/step\n",
      "Epoch 138/200\n",
      "161/161 - 35s - loss: 0.3127 - accuracy: 0.8747 - val_loss: 0.3256 - val_accuracy: 0.8781 - 35s/epoch - 215ms/step\n",
      "Epoch 139/200\n",
      "161/161 - 35s - loss: 0.3040 - accuracy: 0.8780 - val_loss: 0.3365 - val_accuracy: 0.8649 - 35s/epoch - 215ms/step\n",
      "Epoch 140/200\n",
      "161/161 - 34s - loss: 0.2958 - accuracy: 0.8798 - val_loss: 0.3180 - val_accuracy: 0.8696 - 34s/epoch - 214ms/step\n",
      "Epoch 141/200\n",
      "161/161 - 35s - loss: 0.3039 - accuracy: 0.8720 - val_loss: 0.3169 - val_accuracy: 0.8672 - 35s/epoch - 215ms/step\n",
      "Epoch 142/200\n",
      "161/161 - 33s - loss: 0.3102 - accuracy: 0.8753 - val_loss: 0.3192 - val_accuracy: 0.8634 - 33s/epoch - 208ms/step\n",
      "Epoch 143/200\n",
      "161/161 - 34s - loss: 0.3093 - accuracy: 0.8728 - val_loss: 0.3216 - val_accuracy: 0.8649 - 34s/epoch - 214ms/step\n",
      "Epoch 144/200\n",
      "161/161 - 35s - loss: 0.3067 - accuracy: 0.8788 - val_loss: 0.3331 - val_accuracy: 0.8641 - 35s/epoch - 219ms/step\n",
      "Epoch 145/200\n",
      "161/161 - 35s - loss: 0.3116 - accuracy: 0.8716 - val_loss: 0.3094 - val_accuracy: 0.8703 - 35s/epoch - 218ms/step\n",
      "Epoch 146/200\n",
      "161/161 - 35s - loss: 0.3079 - accuracy: 0.8743 - val_loss: 0.3322 - val_accuracy: 0.8688 - 35s/epoch - 217ms/step\n",
      "Epoch 147/200\n",
      "161/161 - 34s - loss: 0.2993 - accuracy: 0.8794 - val_loss: 0.3200 - val_accuracy: 0.8688 - 34s/epoch - 211ms/step\n",
      "Epoch 148/200\n",
      "161/161 - 34s - loss: 0.2994 - accuracy: 0.8794 - val_loss: 0.3478 - val_accuracy: 0.8711 - 34s/epoch - 213ms/step\n",
      "Epoch 149/200\n",
      "161/161 - 34s - loss: 0.3143 - accuracy: 0.8695 - val_loss: 0.3346 - val_accuracy: 0.8797 - 34s/epoch - 208ms/step\n",
      "Epoch 150/200\n",
      "161/161 - 34s - loss: 0.3081 - accuracy: 0.8757 - val_loss: 0.3297 - val_accuracy: 0.8641 - 34s/epoch - 212ms/step\n",
      "Epoch 151/200\n",
      "161/161 - 34s - loss: 0.3050 - accuracy: 0.8753 - val_loss: 0.3231 - val_accuracy: 0.8742 - 34s/epoch - 210ms/step\n",
      "Epoch 152/200\n",
      "161/161 - 34s - loss: 0.3127 - accuracy: 0.8724 - val_loss: 0.3215 - val_accuracy: 0.8804 - 34s/epoch - 212ms/step\n",
      "Epoch 153/200\n",
      "161/161 - 34s - loss: 0.2979 - accuracy: 0.8776 - val_loss: 0.3398 - val_accuracy: 0.8766 - 34s/epoch - 209ms/step\n",
      "Epoch 154/200\n",
      "161/161 - 34s - loss: 0.3027 - accuracy: 0.8775 - val_loss: 0.3103 - val_accuracy: 0.8688 - 34s/epoch - 210ms/step\n",
      "Epoch 155/200\n",
      "161/161 - 34s - loss: 0.2942 - accuracy: 0.8811 - val_loss: 0.3146 - val_accuracy: 0.8665 - 34s/epoch - 212ms/step\n",
      "Epoch 156/200\n",
      "161/161 - 34s - loss: 0.3064 - accuracy: 0.8769 - val_loss: 0.3251 - val_accuracy: 0.8696 - 34s/epoch - 213ms/step\n",
      "Epoch 157/200\n",
      "161/161 - 34s - loss: 0.3046 - accuracy: 0.8757 - val_loss: 0.3278 - val_accuracy: 0.8696 - 34s/epoch - 213ms/step\n",
      "Epoch 158/200\n",
      "161/161 - 35s - loss: 0.3016 - accuracy: 0.8761 - val_loss: 0.3155 - val_accuracy: 0.8727 - 35s/epoch - 215ms/step\n",
      "Epoch 159/200\n",
      "161/161 - 34s - loss: 0.3097 - accuracy: 0.8743 - val_loss: 0.3421 - val_accuracy: 0.8641 - 34s/epoch - 213ms/step\n",
      "Epoch 160/200\n",
      "161/161 - 35s - loss: 0.2987 - accuracy: 0.8848 - val_loss: 0.3262 - val_accuracy: 0.8641 - 35s/epoch - 217ms/step\n",
      "Epoch 161/200\n",
      "161/161 - 35s - loss: 0.3028 - accuracy: 0.8745 - val_loss: 0.3229 - val_accuracy: 0.8719 - 35s/epoch - 219ms/step\n",
      "Epoch 162/200\n",
      "161/161 - 35s - loss: 0.3044 - accuracy: 0.8773 - val_loss: 0.3104 - val_accuracy: 0.8680 - 35s/epoch - 218ms/step\n",
      "Epoch 163/200\n",
      "161/161 - 34s - loss: 0.3088 - accuracy: 0.8730 - val_loss: 0.3278 - val_accuracy: 0.8734 - 34s/epoch - 211ms/step\n",
      "Epoch 164/200\n",
      "161/161 - 34s - loss: 0.3103 - accuracy: 0.8743 - val_loss: 0.3056 - val_accuracy: 0.8781 - 34s/epoch - 211ms/step\n",
      "Epoch 165/200\n",
      "161/161 - 34s - loss: 0.3014 - accuracy: 0.8743 - val_loss: 0.3280 - val_accuracy: 0.8665 - 34s/epoch - 212ms/step\n",
      "Epoch 166/200\n",
      "161/161 - 34s - loss: 0.3082 - accuracy: 0.8769 - val_loss: 0.3514 - val_accuracy: 0.8680 - 34s/epoch - 214ms/step\n",
      "Epoch 167/200\n",
      "161/161 - 35s - loss: 0.3039 - accuracy: 0.8778 - val_loss: 0.3039 - val_accuracy: 0.8672 - 35s/epoch - 216ms/step\n",
      "Epoch 168/200\n",
      "161/161 - 35s - loss: 0.3031 - accuracy: 0.8771 - val_loss: 0.3339 - val_accuracy: 0.8672 - 35s/epoch - 215ms/step\n",
      "Epoch 169/200\n",
      "161/161 - 35s - loss: 0.3222 - accuracy: 0.8693 - val_loss: 0.3248 - val_accuracy: 0.8680 - 35s/epoch - 215ms/step\n",
      "Epoch 170/200\n",
      "161/161 - 34s - loss: 0.3056 - accuracy: 0.8776 - val_loss: 0.3130 - val_accuracy: 0.8696 - 34s/epoch - 211ms/step\n",
      "Epoch 171/200\n",
      "161/161 - 34s - loss: 0.3056 - accuracy: 0.8761 - val_loss: 0.3294 - val_accuracy: 0.8703 - 34s/epoch - 211ms/step\n",
      "Epoch 172/200\n",
      "161/161 - 34s - loss: 0.2956 - accuracy: 0.8765 - val_loss: 0.3435 - val_accuracy: 0.8626 - 34s/epoch - 211ms/step\n",
      "Epoch 173/200\n",
      "161/161 - 34s - loss: 0.2971 - accuracy: 0.8829 - val_loss: 0.3179 - val_accuracy: 0.8719 - 34s/epoch - 210ms/step\n",
      "Epoch 174/200\n",
      "161/161 - 35s - loss: 0.3022 - accuracy: 0.8773 - val_loss: 0.3187 - val_accuracy: 0.8672 - 35s/epoch - 215ms/step\n",
      "Epoch 175/200\n",
      "161/161 - 34s - loss: 0.3030 - accuracy: 0.8808 - val_loss: 0.3323 - val_accuracy: 0.8703 - 34s/epoch - 212ms/step\n",
      "Epoch 176/200\n",
      "161/161 - 34s - loss: 0.3109 - accuracy: 0.8734 - val_loss: 0.3184 - val_accuracy: 0.8688 - 34s/epoch - 209ms/step\n",
      "Epoch 177/200\n",
      "161/161 - 35s - loss: 0.2982 - accuracy: 0.8831 - val_loss: 0.3157 - val_accuracy: 0.8734 - 35s/epoch - 215ms/step\n",
      "Epoch 178/200\n",
      "161/161 - 34s - loss: 0.3037 - accuracy: 0.8780 - val_loss: 0.3211 - val_accuracy: 0.8727 - 34s/epoch - 208ms/step\n",
      "Epoch 179/200\n",
      "161/161 - 34s - loss: 0.3067 - accuracy: 0.8767 - val_loss: 0.3182 - val_accuracy: 0.8727 - 34s/epoch - 213ms/step\n",
      "Epoch 180/200\n",
      "161/161 - 35s - loss: 0.2959 - accuracy: 0.8761 - val_loss: 0.3363 - val_accuracy: 0.8665 - 35s/epoch - 216ms/step\n",
      "Epoch 181/200\n",
      "161/161 - 34s - loss: 0.3027 - accuracy: 0.8790 - val_loss: 0.3286 - val_accuracy: 0.8734 - 34s/epoch - 214ms/step\n",
      "Epoch 182/200\n",
      "161/161 - 34s - loss: 0.3016 - accuracy: 0.8710 - val_loss: 0.3287 - val_accuracy: 0.8634 - 34s/epoch - 213ms/step\n",
      "Epoch 183/200\n",
      "161/161 - 34s - loss: 0.2886 - accuracy: 0.8821 - val_loss: 0.3080 - val_accuracy: 0.8719 - 34s/epoch - 213ms/step\n",
      "Epoch 184/200\n",
      "161/161 - 35s - loss: 0.2911 - accuracy: 0.8790 - val_loss: 0.3157 - val_accuracy: 0.8680 - 35s/epoch - 214ms/step\n",
      "Epoch 185/200\n",
      "161/161 - 34s - loss: 0.2962 - accuracy: 0.8815 - val_loss: 0.3103 - val_accuracy: 0.8711 - 34s/epoch - 213ms/step\n",
      "Epoch 186/200\n",
      "161/161 - 35s - loss: 0.2973 - accuracy: 0.8809 - val_loss: 0.3271 - val_accuracy: 0.8688 - 35s/epoch - 218ms/step\n",
      "Epoch 187/200\n",
      "161/161 - 34s - loss: 0.2961 - accuracy: 0.8844 - val_loss: 0.3288 - val_accuracy: 0.8750 - 34s/epoch - 214ms/step\n",
      "Epoch 188/200\n",
      "161/161 - 35s - loss: 0.2989 - accuracy: 0.8819 - val_loss: 0.3295 - val_accuracy: 0.8634 - 35s/epoch - 218ms/step\n",
      "Epoch 189/200\n",
      "161/161 - 36s - loss: 0.3120 - accuracy: 0.8765 - val_loss: 0.3097 - val_accuracy: 0.8657 - 36s/epoch - 224ms/step\n",
      "Epoch 190/200\n",
      "161/161 - 36s - loss: 0.2952 - accuracy: 0.8844 - val_loss: 0.3366 - val_accuracy: 0.8618 - 36s/epoch - 223ms/step\n",
      "Epoch 191/200\n",
      "161/161 - 35s - loss: 0.2921 - accuracy: 0.8798 - val_loss: 0.3175 - val_accuracy: 0.8688 - 35s/epoch - 218ms/step\n",
      "Epoch 192/200\n",
      "161/161 - 35s - loss: 0.2949 - accuracy: 0.8808 - val_loss: 0.3365 - val_accuracy: 0.8696 - 35s/epoch - 215ms/step\n"
     ]
    },
    {
     "name": "stdout",
     "output_type": "stream",
     "text": [
      "Epoch 193/200\n",
      "161/161 - 36s - loss: 0.2950 - accuracy: 0.8819 - val_loss: 0.3140 - val_accuracy: 0.8657 - 36s/epoch - 222ms/step\n",
      "Epoch 194/200\n",
      "161/161 - 36s - loss: 0.3036 - accuracy: 0.8757 - val_loss: 0.3207 - val_accuracy: 0.8672 - 36s/epoch - 222ms/step\n",
      "Epoch 195/200\n",
      "161/161 - 36s - loss: 0.3058 - accuracy: 0.8800 - val_loss: 0.3286 - val_accuracy: 0.8618 - 36s/epoch - 225ms/step\n",
      "Epoch 196/200\n",
      "161/161 - 36s - loss: 0.2932 - accuracy: 0.8860 - val_loss: 0.3034 - val_accuracy: 0.8719 - 36s/epoch - 225ms/step\n",
      "Epoch 197/200\n",
      "161/161 - 36s - loss: 0.2987 - accuracy: 0.8751 - val_loss: 0.3438 - val_accuracy: 0.8766 - 36s/epoch - 221ms/step\n",
      "Epoch 198/200\n",
      "161/161 - 34s - loss: 0.2992 - accuracy: 0.8825 - val_loss: 0.3205 - val_accuracy: 0.8688 - 34s/epoch - 211ms/step\n",
      "Epoch 199/200\n",
      "161/161 - 34s - loss: 0.3053 - accuracy: 0.8763 - val_loss: 0.3128 - val_accuracy: 0.8750 - 34s/epoch - 211ms/step\n",
      "Epoch 200/200\n",
      "161/161 - 35s - loss: 0.3013 - accuracy: 0.8778 - val_loss: 0.3141 - val_accuracy: 0.8750 - 35s/epoch - 218ms/step\n"
     ]
    }
   ],
   "source": [
    "hist = model.fit(word_seq_train,\n",
    "                 train_labels,\n",
    "                 batch_size = batch_size,\n",
    "                 epochs = num_epochs,\n",
    "                 validation_split=0.2,\n",
    "                 shuffle=True,\n",
    "                 verbose=2)"
   ]
  },
  {
   "cell_type": "code",
   "execution_count": 52,
   "id": "2bdaa895",
   "metadata": {},
   "outputs": [
    {
     "data": {
      "image/png": "[encoded data removed]",
      "text/plain": [
       "<Figure size 864x288 with 2 Axes>"
      ]
     },
     "metadata": {
      "needs_background": "light"
     },
     "output_type": "display_data"
    }
   ],
   "source": [
    "fig, (ax1, ax2) = plt.subplots(1, 2, figsize=(12, 4))\n",
    "\n",
    "ax1.plot(hist.history['loss'], lw=2.0, color='b', alpha=0.65, label='train')\n",
    "ax1.plot(hist.history['val_loss'], lw=2.0, color='r', alpha=0.65, label='val')\n",
    "ax1.set_title('Loss Visualization')\n",
    "ax1.set_xlabel('Epochs')\n",
    "ax1.set_ylabel('Cross-Entropy Loss')\n",
    "ax1.legend(loc='upper right')\n",
    "ax2.plot(hist.history['accuracy'], lw=2.0, color='b', alpha=0.65, label='train')\n",
    "ax2.plot(hist.history['val_accuracy'], lw=2.0, color='r', alpha=0.65, label='val')\n",
    "ax2.set_title('Accuracy Visualization')\n",
    "ax2.set_xlabel('Epochs')\n",
    "ax2.set_ylabel('Accuracy')\n",
    "ax2.legend(loc='lower right')\n",
    "\n",
    "ax1.grid(False)\n",
    "ax2.grid(False)\n",
    "\n",
    "ax2.set_ylim(-0.1, 1.1)\n",
    "plt.show()"
   ]
  },
  {
   "cell_type": "code",
   "execution_count": 53,
   "id": "c545d9e5",
   "metadata": {},
   "outputs": [
    {
     "data": {
      "text/html": [
       "<div>\n",
       "<style scoped>\n",
       "    .dataframe tbody tr th:only-of-type {\n",
       "        vertical-align: middle;\n",
       "    }\n",
       "\n",
       "    .dataframe tbody tr th {\n",
       "        vertical-align: top;\n",
       "    }\n",
       "\n",
       "    .dataframe thead th {\n",
       "        text-align: right;\n",
       "    }\n",
       "</style>\n",
       "<table border=\"1\" class=\"dataframe\">\n",
       "  <thead>\n",
       "    <tr style=\"text-align: right;\">\n",
       "      <th></th>\n",
       "      <th>text</th>\n",
       "      <th>label</th>\n",
       "    </tr>\n",
       "  </thead>\n",
       "  <tbody>\n",
       "    <tr>\n",
       "      <th>3182</th>\n",
       "      <td>santa clau ralli basic tendenc stock market su...</td>\n",
       "      <td>1</td>\n",
       "    </tr>\n",
       "    <tr>\n",
       "      <th>1971</th>\n",
       "      <td>compani alreadi rais billion anchor investor r...</td>\n",
       "      <td>1</td>\n",
       "    </tr>\n",
       "    <tr>\n",
       "      <th>2500</th>\n",
       "      <td>india consid allow crypto trade investor</td>\n",
       "      <td>0</td>\n",
       "    </tr>\n",
       "    <tr>\n",
       "      <th>6037</th>\n",
       "      <td>nasscom premier trade bodi chamber commerc tec...</td>\n",
       "      <td>1</td>\n",
       "    </tr>\n",
       "    <tr>\n",
       "      <th>8653</th>\n",
       "      <td>brainnwav found provid augment busi intellig p...</td>\n",
       "      <td>1</td>\n",
       "    </tr>\n",
       "    <tr>\n",
       "      <th>...</th>\n",
       "      <td>...</td>\n",
       "      <td>...</td>\n",
       "    </tr>\n",
       "    <tr>\n",
       "      <th>4680</th>\n",
       "      <td>account practic manag softwar compani karbon r...</td>\n",
       "      <td>1</td>\n",
       "    </tr>\n",
       "    <tr>\n",
       "      <th>4042</th>\n",
       "      <td>london zoomo startup design sell commerci grad...</td>\n",
       "      <td>0</td>\n",
       "    </tr>\n",
       "    <tr>\n",
       "      <th>7028</th>\n",
       "      <td>either log asham face stay zoom long enough be...</td>\n",
       "      <td>1</td>\n",
       "    </tr>\n",
       "    <tr>\n",
       "      <th>3168</th>\n",
       "      <td>analysisaft anoth stun us stock market year in...</td>\n",
       "      <td>1</td>\n",
       "    </tr>\n",
       "    <tr>\n",
       "      <th>9311</th>\n",
       "      <td>join today lead execut onlin data summit march...</td>\n",
       "      <td>1</td>\n",
       "    </tr>\n",
       "  </tbody>\n",
       "</table>\n",
       "<p>2759 rows × 2 columns</p>\n",
       "</div>"
      ],
      "text/plain": [
       "                                                   text  label\n",
       "3182  santa clau ralli basic tendenc stock market su...      1\n",
       "1971  compani alreadi rais billion anchor investor r...      1\n",
       "2500           india consid allow crypto trade investor      0\n",
       "6037  nasscom premier trade bodi chamber commerc tec...      1\n",
       "8653  brainnwav found provid augment busi intellig p...      1\n",
       "...                                                 ...    ...\n",
       "4680  account practic manag softwar compani karbon r...      1\n",
       "4042  london zoomo startup design sell commerci grad...      0\n",
       "7028  either log asham face stay zoom long enough be...      1\n",
       "3168  analysisaft anoth stun us stock market year in...      1\n",
       "9311  join today lead execut onlin data summit march...      1\n",
       "\n",
       "[2759 rows x 2 columns]"
      ]
     },
     "execution_count": 53,
     "metadata": {},
     "output_type": "execute_result"
    }
   ],
   "source": [
    "test"
   ]
  },
  {
   "cell_type": "code",
   "execution_count": 54,
   "id": "a14af51a",
   "metadata": {},
   "outputs": [],
   "source": [
    "raw_docs_test  = test['text']\n",
    "\n",
    "word_seq_test  = tokenizer.texts_to_sequences(raw_docs_test)\n",
    "\n",
    "word_seq_test  = sequence.pad_sequences(word_seq_test, maxlen = 4716)"
   ]
  },
  {
   "cell_type": "code",
   "execution_count": 55,
   "id": "df45a4d0",
   "metadata": {},
   "outputs": [
    {
     "data": {
      "text/plain": [
       "array([[0., 1., 0.],\n",
       "       [0., 1., 0.],\n",
       "       [0., 1., 0.],\n",
       "       ...,\n",
       "       [0., 1., 0.],\n",
       "       [0., 0., 1.],\n",
       "       [0., 1., 0.]], dtype=float32)"
      ]
     },
     "execution_count": 55,
     "metadata": {},
     "output_type": "execute_result"
    }
   ],
   "source": [
    "train_labels"
   ]
  },
  {
   "cell_type": "code",
   "execution_count": 56,
   "id": "be403729",
   "metadata": {},
   "outputs": [],
   "source": [
    "y_pred = model.predict(word_seq_test).round()"
   ]
  },
  {
   "cell_type": "code",
   "execution_count": 57,
   "id": "9525d817",
   "metadata": {},
   "outputs": [],
   "source": [
    "pred_df = pd.DataFrame(data=y_pred)"
   ]
  },
  {
   "cell_type": "code",
   "execution_count": 58,
   "id": "c01aaa17",
   "metadata": {},
   "outputs": [],
   "source": [
    "y_pred = pred_df.values.argmax(1)"
   ]
  },
  {
   "cell_type": "code",
   "execution_count": 59,
   "id": "18160ba6",
   "metadata": {},
   "outputs": [],
   "source": [
    "from keras.models import load_model\n",
    "from keras.preprocessing import sequence\n",
    "from tensorflow.keras.utils import to_categorical\n",
    "from sklearn.metrics import accuracy_score, confusion_matrix, classification_report"
   ]
  },
  {
   "cell_type": "code",
   "execution_count": 60,
   "id": "7763a40b",
   "metadata": {},
   "outputs": [
    {
     "name": "stdout",
     "output_type": "stream",
     "text": [
      "[[ 203   35    4]\n",
      " [  92 1960   47]\n",
      " [  59  116  243]]\n",
      "Accuracy 0.8720550924247916\n"
     ]
    }
   ],
   "source": [
    "cm = confusion_matrix(y_test, y_pred)\n",
    "\n",
    "print(cm)\n",
    "print('Accuracy ' +str(accuracy_score(y_test, y_pred)))"
   ]
  },
  {
   "cell_type": "code",
   "execution_count": 61,
   "id": "ce5ca711",
   "metadata": {},
   "outputs": [
    {
     "name": "stdout",
     "output_type": "stream",
     "text": [
      "              precision    recall  f1-score   support\n",
      "\n",
      "           0       0.57      0.84      0.68       242\n",
      "           1       0.93      0.93      0.93      2099\n",
      "           2       0.83      0.58      0.68       418\n",
      "\n",
      "    accuracy                           0.87      2759\n",
      "   macro avg       0.78      0.78      0.76      2759\n",
      "weighted avg       0.88      0.87      0.87      2759\n",
      "\n"
     ]
    }
   ],
   "source": [
    "print(classification_report(y_test, y_pred))"
   ]
  },
  {
   "cell_type": "code",
   "execution_count": 62,
   "id": "2fa15404",
   "metadata": {},
   "outputs": [],
   "source": [
    "# model1.save(\"model010.h5\")\n",
    "# print(\"Saved model to disk\")"
   ]
  },
  {
   "cell_type": "code",
   "execution_count": 63,
   "id": "e4f1c99f",
   "metadata": {},
   "outputs": [],
   "source": [
    "import os"
   ]
  },
  {
   "cell_type": "code",
   "execution_count": 64,
   "id": "4fb65eda",
   "metadata": {},
   "outputs": [
    {
     "data": {
      "text/plain": [
       "'my_mnist_model\\\\0001'"
      ]
     },
     "execution_count": 64,
     "metadata": {},
     "output_type": "execute_result"
    }
   ],
   "source": [
    "model_version = \"0001\"\n",
    "model_name = \"my_mnist_model\"\n",
    "model_path = os.path.join(model_name, model_version)\n",
    "model_path"
   ]
  },
  {
   "cell_type": "code",
   "execution_count": 66,
   "id": "34195e51",
   "metadata": {},
   "outputs": [
    {
     "name": "stderr",
     "output_type": "stream",
     "text": [
      "WARNING:absl:Found untraced functions such as lstm_cell_layer_call_fn, lstm_cell_layer_call_and_return_conditional_losses while saving (showing 2 of 2). These functions will not be directly callable after loading.\n"
     ]
    },
    {
     "name": "stdout",
     "output_type": "stream",
     "text": [
      "INFO:tensorflow:Assets written to: my_mnist_model\\0001\\assets\n"
     ]
    },
    {
     "name": "stderr",
     "output_type": "stream",
     "text": [
      "INFO:tensorflow:Assets written to: my_mnist_model\\0001\\assets\n"
     ]
    }
   ],
   "source": [
    "tf.saved_model.save(model, model_path)"
   ]
  },
  {
   "cell_type": "code",
   "execution_count": null,
   "id": "62e671c2",
   "metadata": {},
   "outputs": [],
   "source": []
  }
 ],
 "metadata": {
  "kernelspec": {
   "display_name": "Python 3 (ipykernel)",
   "language": "python",
   "name": "python3"
  },
  "language_info": {
   "codemirror_mode": {
    "name": "ipython",
    "version": 3
   },
   "file_extension": ".py",
   "mimetype": "text/x-python",
   "name": "python",
   "nbconvert_exporter": "python",
   "pygments_lexer": "ipython3",
   "version": "3.10.4"
  }
 },
 "nbformat": 4,
 "nbformat_minor": 5
}
